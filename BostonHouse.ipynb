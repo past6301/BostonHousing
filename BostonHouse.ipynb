{
  "nbformat": 4,
  "nbformat_minor": 0,
  "metadata": {
    "colab": {
      "provenance": [],
      "mount_file_id": "1HK9JEkV4ewRDZ5AvhlmUE2d2rhI0lBPO",
      "authorship_tag": "ABX9TyMxylU+0UfPexfpwJ2nUgLJ",
      "include_colab_link": true
    },
    "kernelspec": {
      "name": "python3",
      "display_name": "Python 3"
    },
    "language_info": {
      "name": "python"
    },
    "accelerator": "GPU"
  },
  "cells": [
    {
      "cell_type": "markdown",
      "metadata": {
        "id": "view-in-github",
        "colab_type": "text"
      },
      "source": [
        "<a href=\"https://colab.research.google.com/github/past6301/BostonHousing/blob/main/BostonHouse.ipynb\" target=\"_parent\"><img src=\"https://colab.research.google.com/assets/colab-badge.svg\" alt=\"Open In Colab\"/></a>"
      ]
    },
    {
      "cell_type": "code",
      "execution_count": null,
      "metadata": {
        "id": "ReDyJj7zyt20"
      },
      "outputs": [],
      "source": [
        "import pandas as pd\n",
        "data=pd.read_csv(\"/content/drive/MyDrive/Datasets/Final Dataset/housing.csv\")"
      ]
    },
    {
      "cell_type": "code",
      "source": [
        "from sklearn.preprocessing import MinMaxScaler\n",
        "x=data.drop(columns=['MEDV','ID'])\n",
        "y=data[['MEDV']]\n",
        "scaler_x = MinMaxScaler().fit(x)\n",
        "x=scaler_x.transform(x)\n",
        "\n",
        "scaler_y=MinMaxScaler().fit(y)\n",
        "y=scaler_y.transform(y)"
      ],
      "metadata": {
        "id": "cG94DpimzQ_A"
      },
      "execution_count": null,
      "outputs": []
    },
    {
      "cell_type": "code",
      "source": [
        "#keep test size at 0.2\n",
        "from sklearn.model_selection import train_test_split\n",
        "X_train,X_test,Y_train,Y_test=train_test_split(x,y,test_size=0.2)"
      ],
      "metadata": {
        "id": "KhxJlipoz2ym"
      },
      "execution_count": null,
      "outputs": []
    },
    {
      "cell_type": "code",
      "source": [
        "from keras.engine.sequential import Sequential\n",
        "import keras\n",
        "from keras import layers\n",
        "from keras.layers import Dense,Dropout\n",
        "model=Sequential()\n",
        "#model.add(Dense(2048, activation='relu',input_dim=X_train.shape[1]))\n",
        "#model.add(Dense(1024, activation='relu',input_dim=X_train.shape[1]))\n",
        "#model.add(Dense(1024, activation='relu'))\n",
        "#model.add(Dense(512, activation='relu',input_dim=X_train.shape[1]))\n",
        "#model.add(Dense(512, activation='relu'))\n",
        "#model.add(Dropout(0.1))\n",
        "#model.add(Dense(256, activation='relu',input_dim=X_train.shape[1]))\n",
        "#model.add(Dense(256, activation='relu'))\n",
        "#model.add(Dropout(0.1))\n",
        "model.add(Dense(128, activation='relu',input_dim=X_train.shape[1]))\n",
        "#model.add(Dense(128, activation='relu'))\n",
        "model.add(Dense(64, activation='relu'))\n",
        "#model.add(Dropout(0.1))\n",
        "model.add(Dense(32,activation='relu'))\n",
        "#model.add(Dropout(0.1))\n",
        "model.add(Dense(1))\n",
        "#model.compile(optimizer='Adadelta',loss='mse',metrics=['mse'])\n",
        "#model.compile(optimizer='Adam',loss='mse',metrics=['mse'])\n",
        "#model.compile(optimizer='RMSProp',loss='mse',metrics=['mse'])\n",
        "#model.compile(optimizer='SGD',loss='mse',metrics=['mse'])\n",
        "model.compile(optimizer='ADAMax',loss='mse',metrics=['mse'])\n",
        "history=model.fit(X_train,Y_train,batch_size=64,epochs=250,validation_data=(X_test,Y_test))"
      ],
      "metadata": {
        "id": "urEIbuE50Ivr"
      },
      "execution_count": null,
      "outputs": []
    },
    {
      "cell_type": "code",
      "source": [
        "loss,accuracy=model.evaluate(X_test,Y_test)\n",
        "print(\"loss\",loss)"
      ],
      "metadata": {
        "id": "7fze78Dq3Olh",
        "colab": {
          "base_uri": "https://localhost:8080/"
        },
        "outputId": "a0788e0b-0809-4c34-8f14-00ec24266bf8"
      },
      "execution_count": null,
      "outputs": [
        {
          "output_type": "stream",
          "name": "stdout",
          "text": [
            "4/4 [==============================] - 0s 3ms/step - loss: 0.0054 - mse: 0.0054\n",
            "loss 0.005351926665753126\n"
          ]
        }
      ]
    },
    {
      "cell_type": "code",
      "source": [
        "import matplotlib.pyplot as plt\n",
        "loss=history.history['loss']\n",
        "val_loss=history.history['val_loss']\n",
        "epochs=range(1,1+len(loss))\n",
        "plt.plot(epochs,loss,'y',label='Training loss')\n",
        "plt.plot(epochs,val_loss,'r',label='validation loss')\n",
        "plt.xlabel('epochs')\n",
        "plt.ylabel('loss')\n",
        "plt.title(\"Training vs Validation Loss\")\n",
        "plt.legend()\n",
        "\n",
        "plt.show()"
      ],
      "metadata": {
        "colab": {
          "base_uri": "https://localhost:8080/",
          "height": 295
        },
        "id": "B73mD1UX51bN",
        "outputId": "4facb3c8-1724-46de-d948-52b688158633"
      },
      "execution_count": null,
      "outputs": [
        {
          "output_type": "display_data",
          "data": {
            "text/plain": [
              "<Figure size 432x288 with 1 Axes>"
            ],
            "image/png": "[encoded data removed]"
          },
          "metadata": {
            "needs_background": "light"
          }
        }
      ]
    },
    {
      "cell_type": "code",
      "source": [
        "from sklearn.metrics import mean_squared_error as mse\n",
        "import math\n",
        "y_pred=model.predict(X_test)\n",
        "mse=mse(Y_test,y_pred)\n",
        "rsme=math.sqrt(mse)\n",
        "print(mse)\n",
        "print(rsme)\n",
        "sub=pd.read_csv(\"/content/drive/MyDrive/Datasets/Final Dataset/sample.csv\")\n",
        "sub['MEDV']=y_pred\n",
        "sub.to_csv(\"/content/drive/MyDrive/Datasets/Final Dataset/submission.csv\",index=False)"
      ],
      "metadata": {
        "id": "liBB09k50mz-",
        "colab": {
          "base_uri": "https://localhost:8080/"
        },
        "outputId": "29dbade4-10e1-4ce3-d120-dfc8543d9002"
      },
      "execution_count": null,
      "outputs": [
        {
          "output_type": "stream",
          "name": "stdout",
          "text": [
            "0.005351926235993838\n",
            "0.0731568604848092\n"
          ]
        }
      ]
    }
  ]
}